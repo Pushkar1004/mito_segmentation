
  {
   "cell_type": "code",
   "execution_count": 1,
   "id": "f3bf01d3-2ca6-4a2b-9bb8-c21eb643ec6f",
   "metadata": {
    "tags": []
   },
   "outputs": [],
   "source": [
    "import torch\n",
    "import torch.nn as nn\n",
    "from pytorch_network import UNet\n",
    "import torch.optim as optim\n",
    "from torchsummary import summary\n",
    "from torchview import draw_graph\n",
    "from sliceloader import SliceLoader\n",
    "from torch.utils.data import DataLoader\n",
    "from tqdm import tqdm\n",
    "import time \n",
    "from utils import epoch_time"
   ]
  },
  {
   "cell_type": "code",
   "execution_count": 2,
   "id": "400081a0-79da-45f3-bf23-a71215030323",
   "metadata": {},
   "outputs": [],
   "source": [
    "device = torch.device(\"cuda\" if torch.cuda.is_available() else \"cpu\")\n",
    "\n",
    "# Create UNet mode\n",
    "model = UNet(input_shape=(1, 64, 704, 704), num_classes=2)  \n",
    "\n",
    "# Define the loss function and optimizer\n",
    "loss_fn = nn.MSELoss()\n",
    "optimizer = optim.Adam(model.parameters())\n",
    "\n",
    "# Parallelize the model for multi-GPU training\n",
    "model = nn.DataParallel(model)  \n",
    "model = model.to(device)\n",
    "\n",
    "\n",
    "# Draw model architecture and save the png file \n",
    "# model_graph = draw_graph(model, input_size=(1,1,64,704,704), expand_nested=True, save_graph = True, filename = \"UNet\", directory = \"./\", device = device)\n",
    "# model_graph.visual_graph  #To visualize the grapgh\n",
    "\n",
    "# print(summary(model , input_size= (1,64,704,704), device = \"cuda\"))  # to print the summary of the model\n",
    "\n",
    "# Load train and val datasets using SliceLoader\n",
    "train_dataset = SliceLoader(\"slices\", \"mrc_train\", \"mask_train\")\n",
    "val_dataset = SliceLoader(\"slices\", \"mrc_val\", \"mask_val\")\n",
    "\n",
    "# Define DataLoader for training and validating\n",
    "train_loader = DataLoader(train_dataset, batch_size=4, shuffle=True)\n",
    "val_loader = DataLoader(val_dataset, batch_size=4, shuffle=False)\n",
    "\n",
    "# Function to train the model for one epoch\n",
    "def train_epoch(model, dataloader, loss_fn, optimizer, device):\n",
    "    model.train()\n",
    "    total_loss = 0.0\n",
    "\n",
    "    for inputs, labels in tqdm(dataloader, desc=\"Training\"):\n",
    "        inputs, labels = inputs.to(device, dtype=torch.float32), labels.to(device, dtype=torch.float32)\n",
    "        optimizer.zero_grad()\n",
    "        outputs = model(inputs)\n",
    "        loss = loss_fn(outputs, labels)\n",
    "        loss.backward()\n",
    "        optimizer.step()\n",
    "        total_loss += loss.item()\n",
    "\n",
    "    return total_loss / len(dataloader)\n",
    "\n",
    "# Function to evaluate the model on the val set\n",
    "def evaluate_model(model, dataloader, loss_fn, device):\n",
    "    model.eval()\n",
    "    total_loss = 0.0\n",
    "\n",
    "    with torch.no_grad():\n",
    "        for inputs, labels in tqdm(dataloader, desc=\"Evaluating\"):\n",
    "            inputs, labels = inputs.to(device, dtype=torch.float32), labels.to(device, dtype=torch.float32)\n",
    "            outputs = model(inputs)\n",
    "            loss = loss_fn(outputs, labels)\n",
    "            total_loss += loss.item()\n",
    "\n",
    "    return total_loss / len(dataloader)"
   ]
  },
  {
   "cell_type": "code",
   "execution_count": 3,
   "id": "bb4564ba-ab25-40ce-95c8-438d078642f5",
   "metadata": {},
   "outputs": [
    {
     "name": "stderr",
     "output_type": "stream",
     "text": [
      "Training: 100%|███████████████████████████████| 772/772 [46:12<00:00,  3.59s/it]\n",
      "Evaluating: 100%|███████████████████████████████| 48/48 [01:25<00:00,  1.78s/it]\n"
     ]
    },
    {
     "name": "stdout",
     "output_type": "stream",
     "text": [
      "Valid loss improved from inf to 0.0044. Saving checkpoint: pytorch_final_model\n",
      "Epoch: 01 | Epoch Time: 47m 38s\n",
      "\tTrain Loss: 0.022\n",
      "\t Val. Loss: 0.004\n",
      "\n"
     ]
    },
    {
     "name": "stderr",
     "output_type": "stream",
     "text": [
      "Training: 100%|███████████████████████████████| 772/772 [46:15<00:00,  3.59s/it]\n",
      "Evaluating: 100%|███████████████████████████████| 48/48 [01:35<00:00,  1.98s/it]\n"
     ]
    },
    {
     "name": "stdout",
     "output_type": "stream",
     "text": [
      "Valid loss improved from 0.0044 to 0.0026. Saving checkpoint: pytorch_final_model\n",
      "Epoch: 02 | Epoch Time: 47m 50s\n",
      "\tTrain Loss: 0.002\n",
      "\t Val. Loss: 0.003\n",
      "\n"
     ]
    },
    {
     "name": "stderr",
     "output_type": "stream",
     "text": [
      "Training: 100%|███████████████████████████████| 772/772 [46:42<00:00,  3.63s/it]\n",
      "Evaluating: 100%|███████████████████████████████| 48/48 [01:44<00:00,  2.17s/it]\n"
     ]
    },
    {
     "name": "stdout",
     "output_type": "stream",
     "text": [
      "Epoch: 03 | Epoch Time: 48m 26s\n",
      "\tTrain Loss: 0.002\n",
      "\t Val. Loss: 0.003\n",
      "\n"
     ]
    },
    {
     "name": "stderr",
     "output_type": "stream",
     "text": [
      "Training: 100%|███████████████████████████████| 772/772 [46:55<00:00,  3.65s/it]\n",
      "Evaluating: 100%|███████████████████████████████| 48/48 [01:49<00:00,  2.28s/it]\n"
     ]
    },
    {
     "name": "stdout",
     "output_type": "stream",
     "text": [
      "Epoch: 04 | Epoch Time: 48m 44s\n",
      "\tTrain Loss: 0.002\n",
      "\t Val. Loss: 0.003\n",
      "\n"
     ]
    },
    {
     "name": "stderr",
     "output_type": "stream",
     "text": [
      "Training: 100%|███████████████████████████████| 772/772 [47:16<00:00,  3.67s/it]\n",
      "Evaluating: 100%|███████████████████████████████| 48/48 [01:48<00:00,  2.26s/it]\n"
     ]
    },
    {
     "name": "stdout",
     "output_type": "stream",
     "text": [
      "Epoch: 05 | Epoch Time: 49m 5s\n",
      "\tTrain Loss: 0.002\n",
      "\t Val. Loss: 0.003\n",
      "\n"
     ]
    },
    {
     "name": "stderr",
     "output_type": "stream",
     "text": [
      "Training: 100%|███████████████████████████████| 772/772 [47:25<00:00,  3.69s/it]\n",
      "Evaluating: 100%|███████████████████████████████| 48/48 [01:48<00:00,  2.26s/it]\n"
     ]
    },
    {
     "name": "stdout",
     "output_type": "stream",
     "text": [
      "Valid loss improved from 0.0026 to 0.0020. Saving checkpoint: pytorch_final_model\n",
      "Epoch: 06 | Epoch Time: 49m 14s\n",
      "\tTrain Loss: 0.002\n",
      "\t Val. Loss: 0.002\n",
      "\n"
     ]
    },
    {
     "name": "stderr",
     "output_type": "stream",
     "text": [
      "Training: 100%|███████████████████████████████| 772/772 [47:03<00:00,  3.66s/it]\n",
      "Evaluating: 100%|███████████████████████████████| 48/48 [01:43<00:00,  2.15s/it]\n"
     ]
    },
    {
     "name": "stdout",
     "output_type": "stream",
     "text": [
      "Epoch: 07 | Epoch Time: 48m 46s\n",
      "\tTrain Loss: 0.002\n",
      "\t Val. Loss: 0.003\n",
      "\n"
     ]
    },
    {
     "name": "stderr",
     "output_type": "stream",
     "text": [
      "Training: 100%|███████████████████████████████| 772/772 [46:05<00:00,  3.58s/it]\n",
      "Evaluating: 100%|███████████████████████████████| 48/48 [01:43<00:00,  2.15s/it]\n"
     ]
    },
    {
     "name": "stdout",
     "output_type": "stream",
     "text": [
      "Epoch: 08 | Epoch Time: 47m 48s\n",
      "\tTrain Loss: 0.002\n",
      "\t Val. Loss: 0.002\n",
      "\n"
     ]
    },
    {
     "name": "stderr",
     "output_type": "stream",
     "text": [
      "Training: 100%|███████████████████████████████| 772/772 [45:54<00:00,  3.57s/it]\n",
      "Evaluating: 100%|███████████████████████████████| 48/48 [01:42<00:00,  2.13s/it]\n"
     ]
    },
    {
     "name": "stdout",
     "output_type": "stream",
     "text": [
      "Epoch: 09 | Epoch Time: 47m 36s\n",
      "\tTrain Loss: 0.002\n",
      "\t Val. Loss: 0.002\n",
      "\n"
     ]
    },
    {
     "name": "stderr",
     "output_type": "stream",
     "text": [
      "Training: 100%|███████████████████████████████| 772/772 [45:47<00:00,  3.56s/it]\n",
      "Evaluating: 100%|███████████████████████████████| 48/48 [01:42<00:00,  2.13s/it]"
     ]
    },
    {
     "name": "stdout",
     "output_type": "stream",
     "text": [
      "Epoch: 10 | Epoch Time: 47m 30s\n",
      "\tTrain Loss: 0.002\n",
      "\t Val. Loss: 0.004\n",
      "\n"
     ]
    },
    {
     "name": "stderr",
     "output_type": "stream",
     "text": [
      "\n"
     ]
    }
   ],
   "source": [
    "num_epochs = 10\n",
    "best_valid_loss = float('inf')\n",
    "checkpoint_path = \"pytorch_final_model\"\n",
    "\n",
    "train_losses = []\n",
    "valid_losses = []\n",
    "\n",
    "for epoch in range(num_epochs):\n",
    "        start_time = time.time()\n",
    "\n",
    "        train_loss = train_epoch(model, train_loader, loss_fn, optimizer, device)\n",
    "        valid_loss = evaluate_model(model, val_loader, loss_fn, device)\n",
    "        \n",
    "        train_losses.append(train_loss)\n",
    "        valid_losses.append(valid_loss)\n",
    "\n",
    "        \"\"\" Saving the model \"\"\"\n",
    "        if valid_loss < best_valid_loss:\n",
    "            data_str = f\"Valid loss improved from {best_valid_loss:2.4f} to {valid_loss:2.4f}. Saving checkpoint: {checkpoint_path}\"\n",
    "            print(data_str)\n",
    "\n",
    "            best_valid_loss = valid_loss\n",
    "            torch.save(model.state_dict(), checkpoint_path)\n",
    "\n",
    "        end_time = time.time()\n",
    "        epoch_mins, epoch_secs = epoch_time(start_time, end_time)\n",
    "\n",
    "        data_str = f'Epoch: {epoch+1:02} | Epoch Time: {epoch_mins}m {epoch_secs}s\\n'\n",
    "        data_str += f'\\tTrain Loss: {train_loss:.3f}\\n'\n",
    "        data_str += f'\\t Val. Loss: {valid_loss:.3f}\\n'\n",
    "        print(data_str)"
   ]
  },
  {
   "cell_type": "code",
   "execution_count": 4,
   "id": "7da8af5e-9680-445c-91fb-13eea5974aa4",
   "metadata": {},
   "outputs": [
    {
     "data": {
      "image/png": "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",
      "text/plain": [
       "<Figure size 640x480 with 1 Axes>"
      ]
     },
     "metadata": {},
     "output_type": "display_data"
    }
   ],
   "source": [
    "import matplotlib.pyplot as plt\n",
    "\n",
    "plt.figure()\n",
    "plt.plot(range(1, num_epochs + 1), train_losses, label='Train Loss')\n",
    "plt.plot(range(1, num_epochs + 1), valid_losses, label='Validation Loss')\n",
    "plt.xlabel('Epochs')\n",
    "plt.ylabel('Loss')\n",
    "plt.legend()\n",
    "plt.savefig(\"loss_trend.png\")\n",
    "plt.show()"
   ]
  }
 ],
 "metadata": {
  "kernelspec": {
   "display_name": "Python 3 (ipykernel)",
   "language": "python",
   "name": "python3"
  },
  "language_info": {
   "codemirror_mode": {
    "name": "ipython",
    "version": 3
   },
   "file_extension": ".py",
   "mimetype": "text/x-python",
   "name": "python",
   "nbconvert_exporter": "python",
   "pygments_lexer": "ipython3",
   "version": "3.11.4"
  }
 },
 "nbformat": 4,
 "nbformat_minor": 5
}
