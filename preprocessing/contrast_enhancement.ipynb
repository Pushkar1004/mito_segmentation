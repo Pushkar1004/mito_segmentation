{
 "cells": [
  {
   "cell_type": "code",
   "execution_count": null,
   "id": "eba5155e-7a49-44c6-8de9-01a06f926ef4",
   "metadata": {},
   "outputs": [],
   "source": [
    "#histogram after\n",
    "    #normalisation\n",
    "    #gamma_correction\n",
    "    #histogram_equalisation\n",
    "    #adaptive_histogram_equalisation\n",
    "    #contrast limited histogram equalisation\n",
    "#and visualisation in each case"
   ]
  }
 ],
 "metadata": {
  "kernelspec": {
   "display_name": "Python 3 (ipykernel)",
   "language": "python",
   "name": "python3"
  },
  "language_info": {
   "codemirror_mode": {
    "name": "ipython",
    "version": 3
   },
   "file_extension": ".py",
   "mimetype": "text/x-python",
   "name": "python",
   "nbconvert_exporter": "python",
   "pygments_lexer": "ipython3",
   "version": "3.11.4"
  }
 },
 "nbformat": 4,
 "nbformat_minor": 5
}
